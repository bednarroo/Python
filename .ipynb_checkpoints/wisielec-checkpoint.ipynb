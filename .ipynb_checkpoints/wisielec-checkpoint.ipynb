{
 "cells": [
  {
   "cell_type": "markdown",
   "metadata": {},
   "source": [
    "Zadanie 6. Wykorzystując poniższe fragmenty kodu napisz grę w wisielca. Wyświetlaj nieodgadnięte litery jako _\n",
    "\n",
    "<i> Podpowiedź: wykorzystaje pętlę while, która będzie zliczać dostępne hasła. Wykorzystaj funkcję input() do przyjmowania liter i porównuj je z hasłem </i>"
   ]
  },
  {
   "cell_type": "code",
   "execution_count": 114,
   "metadata": {},
   "outputs": [],
   "source": [
    "from random import choice #import funkcji losowego wybierania z  listy\n",
    "\n",
    "dostepne_hasla = [] #tu będą hasła\n",
    "with open('hasla.txt','r') as hasla: #otwieramy plik hasla z tego folderu\n",
    "    for wiersz in hasla: #iteracja pr\n",
    "        wiersz = wiersz.replace('\\n','')\n",
    "        dostepne_hasla.append(wiersz)\n",
    "haslo = choice(dostepne_hasla)\n",
    "\n"
   ]
  },
  {
   "cell_type": "markdown",
   "metadata": {},
   "source": [
    "Na następnych ćwiczeniach sprawdzę postępy!"
   ]
  },
  {
   "cell_type": "code",
   "execution_count": null,
   "metadata": {},
   "outputs": [],
   "source": []
  }
 ],
 "metadata": {
  "kernelspec": {
   "display_name": "Python 3",
   "language": "python",
   "name": "python3"
  },
  "language_info": {
   "codemirror_mode": {
    "name": "ipython",
    "version": 3
   },
   "file_extension": ".py",
   "mimetype": "text/x-python",
   "name": "python",
   "nbconvert_exporter": "python",
   "pygments_lexer": "ipython3",
   "version": "3.7.3"
  }
 },
 "nbformat": 4,
 "nbformat_minor": 2
}
