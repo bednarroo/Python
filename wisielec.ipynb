{
 "cells": [
  {
   "cell_type": "markdown",
   "metadata": {},
   "source": [
    "Zadanie 6. Wykorzystując poniższe fragmenty kodu napisz grę w wisielca. Wyświetlaj nieodgadnięte litery jako _\n",
    "\n",
    "<i> Podpowiedź: wykorzystaje pętlę while, która będzie zliczać dostępne hasła. Wykorzystaj funkcję input() do przyjmowania liter i porównuj je z hasłem </i>"
   ]
  },
  {
   "cell_type": "code",
   "execution_count": null,
   "metadata": {},
   "outputs": [],
   "source": []
  },
  {
   "cell_type": "code",
   "execution_count": 10,
   "metadata": {},
   "outputs": [
    {
     "name": "stdout",
     "output_type": "stream",
     "text": [
      "costam\n"
     ]
    }
   ],
   "source": [
    "#from random import choice #import funkcji losowego wybierania z  listy\n",
    "#\n",
    "#dostepne_hasla = [] #tu będą hasła\n",
    "#with open('C:\\PYTHON\\hasla.txt','r') as hasla: #otwieramy plik hasla z tego folderu\n",
    "#    for wiersz in hasla: #iteracja pr\n",
    "#        wiersz = wiersz.replace('\\n','')\n",
    "#        dostepne_hasla.append(wiersz)\n",
    "#haslo = choice(dostepne_hasla)\n",
    "#print(haslo)\n"
   ]
  },
  {
   "cell_type": "markdown",
   "metadata": {},
   "source": [
   ]
  },
  {
   "cell_type": "code",
   "execution_count": null,
   "metadata": {},
   "outputs": [
    {
     "name": "stdout",
     "output_type": "stream",
     "text": [
     ]
    }
   ],
   "source": [
    "import time\n",
    "import os\n",
    "from random import choice as losowanie\n",
    "while True:\n",
    "    dostepne_hasla = [] \n",
    "    with open('C:\\PYTHON\\hasla.txt','r') as hasla: \n",
    "        for wiersz in hasla: \n",
    "            wiersz = wiersz.replace('\\n','')\n",
    "            dostepne_hasla.append(wiersz)\n",
    "    haslo = losowanie(dostepne_hasla)\n",
    "    print(haslo)\n",
    "\n",
    "    print(\"WITAMY W HANGMAN\")\n",
    "    print('\\n')\n",
    "    print(\"Podaj poziom trudnosci(ile chcesz miec szans(int))\")\n",
    "    szanse=int(input())\n",
    "    dlugosc_slowa = len(haslo)\n",
    "    gen_lin = \"__ \"*dlugosc_slowa\n",
    "    #print(type(gen_lin))   \n",
    "\n",
    "    print(gen_lin)\n",
    "    print('\\n')\n",
    "\n",
    "    print( \"Haslo posiada: \",dlugosc_slowa, \"liter.\")\n",
    "    print(\"Wprowadz litere:\",'\\n')\n",
    "\n",
    "    while True:\n",
    "        \n",
    "        litera = str(input())\n",
    "        literka = litera.lower()\n",
    "        \n",
    "        if literka in haslo:\n",
    "            for i in range(len(haslo)):\n",
    "                if literka == haslo[i]:\n",
    "                    gen_lin=list(gen_lin)\n",
    "                    gen_lin[3*i] = literka\n",
    "                    gen_lin[3*i+1] = ' '\n",
    "                    gen_lin[3*i+2] = ' '\n",
    "                 #   gen_lin[i] = literka\n",
    "                if not \"_\" in gen_lin:\n",
    "                    print(\"Gratulacje, wygrales.\",'\\n',\"Pozostalo szans:\",szanse,\"\\n\",\"Haslo to:\",haslo)\n",
    "                    time.sleep(5)\n",
    "                    os.system('clear')\n",
    "                    break\n",
    "    \n",
    "        else:\n",
    "        \n",
    "            szanse = szanse-1\n",
    "            print(\"Niestety, tej literki nie ma w hasle. Pozostalo\", szanse, \"szans\")\n",
    "            \n",
    "            if szanse == 0:\n",
    "                print(\"Koniec gry, brak szans\")\n",
    "                break \n",
    "        print(''.join(gen_lin))\n",
    "     "
   ]
  },
  {
   "cell_type": "code",
   "execution_count": null,
   "metadata": {},
   "outputs": [],
   "source": []
  },
  {
   "cell_type": "code",
   "execution_count": null,
   "metadata": {},
   "outputs": [],
   "source": []
  }
 ],
 "metadata": {
  "kernelspec": {
   "display_name": "Python 3",
   "language": "python",
   "name": "python3"
  },
  "language_info": {
   "codemirror_mode": {
    "name": "ipython",
    "version": 3
   },
   "file_extension": ".py",
   "mimetype": "text/x-python",
   "name": "python",
   "nbconvert_exporter": "python",
   "pygments_lexer": "ipython3",
   "version": "3.7.3"
  }
 },
 "nbformat": 4,
 "nbformat_minor": 2
}
